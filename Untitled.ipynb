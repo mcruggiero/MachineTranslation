{
 "cells": [
  {
   "cell_type": "markdown",
   "id": "d49ff173-4566-4e4a-ba3c-9e68f1e72052",
   "metadata": {},
   "source": [
    "![Textbook](Images/01.text.png)\n"
   ]
  },
  {
   "cell_type": "markdown",
   "id": "9cc8b827-3b3e-40a6-b35e-be744d118acb",
   "metadata": {},
   "source": [
    "https://ia804706.us.archive.org/9/items/in.ernet.dli.2015.283471/2015.283471.The-Loom_text.pdf"
   ]
  },
  {
   "cell_type": "markdown",
   "id": "1b801bcc-244d-4c95-9494-7427db4f4c9a",
   "metadata": {},
   "source": [
    "## Lecture 1: Introduction to Machine Translation"
   ]
  },
  {
   "cell_type": "markdown",
   "id": "531522f3-ea68-43ca-a158-5bf553ea64d5",
   "metadata": {},
   "source": [
    "### Question: Why is simultaneous translation more challenging than consecutive translation?"
   ]
  },
  {
   "cell_type": "markdown",
   "id": "9e4b8c86-caf8-43c8-82d0-2df250d7c5db",
   "metadata": {},
   "source": [
    "   - Consecutive translation allows the speaker to complete their statement before translation begins, enabling more accurate context understanding.\n",
    "   - Simultaneous translation must process and translate as the speaker continues, introducing challenges such as latency and limited context."
   ]
  },
  {
   "cell_type": "markdown",
   "id": "2bf81475-878a-499d-9c08-81b27514b033",
   "metadata": {},
   "source": [
    "### Question: What are the strengths and limitations of the attention mechanism in neural MT?"
   ]
  },
  {
   "cell_type": "markdown",
   "id": "dc994f76-705a-4e4f-8257-055ee0c70fe0",
   "metadata": {},
   "source": [
    " **Strengths:**\n",
    " - Dynamically focuses on relevant parts of the source sentence during translation.\n",
    " - Handles long-range dependencies more effectively than fixed-context models. "
   ]
  },
  {
   "cell_type": "markdown",
   "id": "9ee28b4f-b9f7-44cd-a2ee-0c713d36d63b",
   "metadata": {},
   "source": [
    " **Limitations:**\n",
    " - Computationally intensive, especially for long sequences.\n",
    " - May struggle with ambiguous or highly idiomatic phrases, but maybe we can train our way around this."
   ]
  },
  {
   "cell_type": "markdown",
   "id": "19426f95-ee2f-454d-a63a-870d1626e2ed",
   "metadata": {},
   "source": [
    "![Textbook](Images/01.Vauquois.png)"
   ]
  },
  {
   "cell_type": "markdown",
   "id": "4d9a92c3-aa18-46c9-aaf0-d5a8d76c9603",
   "metadata": {},
   "source": [
    "![Textbook](Images/01.1985.png)"
   ]
  },
  {
   "cell_type": "markdown",
   "id": "04b3b863-cd19-4ae1-b106-74185320a7fb",
   "metadata": {},
   "source": [
    "\"A SURVEY OF FORMAL GRAMMARS AND ALGORITHMS FOR RECOGNITION AND TRANSFORMATION IN MACHINE TRANSLATION\""
   ]
  },
  {
   "cell_type": "markdown",
   "id": "2409dc94-050d-422d-be7d-260be1a4ebc1",
   "metadata": {},
   "source": [
    "![Textbook](Images/01.Grandpa.png)"
   ]
  },
  {
   "cell_type": "markdown",
   "id": "caacc9cd-f6f2-4c9b-a396-26acd905d189",
   "metadata": {},
   "source": [
    "![Textbook](Images/01.simul.png)"
   ]
  },
  {
   "cell_type": "code",
   "execution_count": null,
   "id": "5872e2c8-320e-4234-9e98-a7bea88614b7",
   "metadata": {},
   "outputs": [],
   "source": []
  }
 ],
 "metadata": {
  "kernelspec": {
   "display_name": "Python 3 (ipykernel)",
   "language": "python",
   "name": "python3"
  },
  "language_info": {
   "codemirror_mode": {
    "name": "ipython",
    "version": 3
   },
   "file_extension": ".py",
   "mimetype": "text/x-python",
   "name": "python",
   "nbconvert_exporter": "python",
   "pygments_lexer": "ipython3",
   "version": "3.12.4"
  }
 },
 "nbformat": 4,
 "nbformat_minor": 5
}
